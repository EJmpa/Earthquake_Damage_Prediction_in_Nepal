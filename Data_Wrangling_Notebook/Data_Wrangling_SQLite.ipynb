{
 "cells": [
  {
   "cell_type": "markdown",
   "id": "5850ea3f-512a-49f2-9fa9-7312b518e766",
   "metadata": {},
   "source": [
    "# Wrangling Data using SQLite"
   ]
  },
  {
   "cell_type": "code",
   "execution_count": null,
   "id": "455df8f1-c983-4356-96f9-8f933bdd9a8f",
   "metadata": {},
   "outputs": [],
   "source": [
    "import sqlite3\n",
    "import numpy as np\n",
    "import pandas as pd\n",
    "import seaborn as sns\n",
    "import matplotlib.pyplot as plt"
   ]
  },
  {
   "cell_type": "code",
   "execution_count": 11,
   "id": "fe2ed425-848a-4991-8cc7-92f9a590899f",
   "metadata": {},
   "outputs": [],
   "source": [
    "# connecting to the Nepal Earthquake Database\n",
    "%reload_ext sql\n",
    "%sql sqlite:///nepal.sqlite\n"
   ]
  },
  {
   "cell_type": "markdown",
   "id": "24a7ded2-64cb-47dc-93c1-d72925c1398a",
   "metadata": {},
   "source": [
    "# Exploration"
   ]
  },
  {
   "cell_type": "code",
   "execution_count": 13,
   "id": "b307b850-1f76-4456-8dbd-764817438dc7",
   "metadata": {},
   "outputs": [
    {
     "name": "stdout",
     "output_type": "stream",
     "text": [
      "   sqlite:///database.db\n",
      " * sqlite:///nepal.sqlite\n",
      "Done.\n"
     ]
    },
    {
     "data": {
      "text/html": [
       "<table>\n",
       "    <thead>\n",
       "        <tr>\n",
       "            <th>type</th>\n",
       "            <th>name</th>\n",
       "            <th>tbl_name</th>\n",
       "            <th>rootpage</th>\n",
       "            <th>sql</th>\n",
       "        </tr>\n",
       "    </thead>\n",
       "    <tbody>\n",
       "        <tr>\n",
       "            <td>table</td>\n",
       "            <td>id_map</td>\n",
       "            <td>id_map</td>\n",
       "            <td>2</td>\n",
       "            <td>CREATE TABLE &quot;id_map&quot; (<br>&quot;household_id&quot; INTEGER,<br>  &quot;building_id&quot; INTEGER,<br>  &quot;vdcmun_id&quot; INTEGER,<br>  &quot;district_id&quot; INTEGER<br>)</td>\n",
       "        </tr>\n",
       "        <tr>\n",
       "            <td>index</td>\n",
       "            <td>ix_id_map_household_id</td>\n",
       "            <td>id_map</td>\n",
       "            <td>3</td>\n",
       "            <td>CREATE INDEX &quot;ix_id_map_household_id&quot;ON &quot;id_map&quot; (&quot;household_id&quot;)</td>\n",
       "        </tr>\n",
       "        <tr>\n",
       "            <td>table</td>\n",
       "            <td>building_structure</td>\n",
       "            <td>building_structure</td>\n",
       "            <td>2032</td>\n",
       "            <td>CREATE TABLE &quot;building_structure&quot; (<br>&quot;building_id&quot; INTEGER,<br>  &quot;count_floors_pre_eq&quot; INTEGER,<br>  &quot;count_floors_post_eq&quot; INTEGER,<br>  &quot;age_building&quot; INTEGER,<br>  &quot;plinth_area_sq_ft&quot; INTEGER,<br>  &quot;height_ft_pre_eq&quot; INTEGER,<br>  &quot;height_ft_post_eq&quot; INTEGER,<br>  &quot;land_surface_condition&quot; TEXT,<br>  &quot;foundation_type&quot; TEXT,<br>  &quot;roof_type&quot; TEXT,<br>  &quot;ground_floor_type&quot; TEXT,<br>  &quot;other_floor_type&quot; TEXT,<br>  &quot;position&quot; TEXT,<br>  &quot;plan_configuration&quot; TEXT,<br>  &quot;condition_post_eq&quot; TEXT,<br>  &quot;superstructure&quot; TEXT<br>)</td>\n",
       "        </tr>\n",
       "        <tr>\n",
       "            <td>index</td>\n",
       "            <td>ix_building_structure_building_id</td>\n",
       "            <td>building_structure</td>\n",
       "            <td>2033</td>\n",
       "            <td>CREATE INDEX &quot;ix_building_structure_building_id&quot;ON &quot;building_structure&quot; (&quot;building_id&quot;)</td>\n",
       "        </tr>\n",
       "        <tr>\n",
       "            <td>table</td>\n",
       "            <td>building_damage</td>\n",
       "            <td>building_damage</td>\n",
       "            <td>12302</td>\n",
       "            <td>CREATE TABLE &quot;building_damage&quot; (<br>&quot;building_id&quot; INTEGER,<br>  &quot;damage_overall_collapse&quot; TEXT,<br>  &quot;damage_overall_leaning&quot; TEXT,<br>  &quot;damage_overall_adjacent_building_risk&quot; TEXT,<br>  &quot;damage_foundation_severe&quot; TEXT,<br>  &quot;damage_foundation_moderate&quot; TEXT,<br>  &quot;damage_foundation_insignificant&quot; TEXT,<br>  &quot;damage_roof_severe&quot; TEXT,<br>  &quot;damage_roof_moderate&quot; TEXT,<br>  &quot;damage_roof_insignificant&quot; TEXT,<br>  &quot;damage_corner_separation_severe&quot; TEXT,<br>  &quot;damage_corner_separation_moderate&quot; TEXT,<br>  &quot;damage_corner_separation_insignificant&quot; TEXT,<br>  &quot;damage_diagonal_cracking_severe&quot; TEXT,<br>  &quot;damage_diagonal_cracking_moderate&quot; TEXT,<br>  &quot;damage_diagonal_cracking_insignificant&quot; TEXT,<br>  &quot;damage_in_plane_failure_severe&quot; TEXT,<br>  &quot;damage_in_plane_failure_moderate&quot; TEXT,<br>  &quot;damage_in_plane_failure_insignificant&quot; TEXT,<br>  &quot;damage_out_of_plane_failure_severe&quot; TEXT,<br>  &quot;damage_out_of_plane_failure_moderate&quot; TEXT,<br>  &quot;damage_out_of_plane_failure_insignificant&quot; TEXT,<br>  &quot;damage_out_of_plane_failure_walls_ncfr_severe&quot; TEXT,<br>  &quot;damage_out_of_plane_failure_walls_ncfr_moderate&quot; TEXT,<br>  &quot;damage_out_of_plane_failure_walls_ncfr_insignificant&quot; TEXT,<br>  &quot;damage_gable_failure_severe&quot; TEXT,<br>  &quot;damage_gable_failure_moderate&quot; TEXT,<br>  &quot;damage_gable_failure_insignificant&quot; TEXT,<br>  &quot;damage_delamination_failure_severe&quot; TEXT,<br>  &quot;damage_delamination_failure_moderate&quot; TEXT,<br>  &quot;damage_delamination_failure_insignificant&quot; TEXT,<br>  &quot;damage_column_failure_severe&quot; TEXT,<br>  &quot;damage_column_failure_moderate&quot; TEXT,<br>  &quot;damage_column_failure_insignificant&quot; TEXT,<br>  &quot;damage_beam_failure_severe&quot; TEXT,<br>  &quot;damage_beam_failure_moderate&quot; TEXT,<br>  &quot;damage_beam_failure_insignificant&quot; TEXT,<br>  &quot;damage_infill_partition_failure_severe&quot; TEXT,<br>  &quot;damage_infill_partition_failure_moderate&quot; TEXT,<br>  &quot;damage_infill_partition_failure_insignificant&quot; TEXT,<br>  &quot;damage_staircase_severe&quot; TEXT,<br>  &quot;damage_staircase_moderate&quot; TEXT,<br>  &quot;damage_staircase_insignificant&quot; TEXT,<br>  &quot;damage_parapet_severe&quot; TEXT,<br>  &quot;damage_parapet_moderate&quot; TEXT,<br>  &quot;damage_parapet_insignificant&quot; TEXT,<br>  &quot;damage_cladding_glazing_severe&quot; TEXT,<br>  &quot;damage_cladding_glazing_moderate&quot; TEXT,<br>  &quot;damage_cladding_glazing_insignificant&quot; TEXT,<br>  &quot;area_assesed&quot; TEXT,<br>  &quot;damage_grade&quot; TEXT,<br>  &quot;technical_solution_proposed&quot; TEXT,<br>  &quot;has_repair_started&quot; REAL,<br>  &quot;has_damage_foundation&quot; REAL,<br>  &quot;has_damage_roof&quot; REAL,<br>  &quot;has_damage_corner_separation&quot; REAL,<br>  &quot;has_damage_diagonal_cracking&quot; REAL,<br>  &quot;has_damage_in_plane_failure&quot; REAL,<br>  &quot;has_damage_out_of_plane_failure&quot; REAL,<br>  &quot;has_damage_out_of_plane_walls_ncfr_failure&quot; REAL,<br>  &quot;has_damage_gable_failure&quot; REAL,<br>  &quot;has_damage_delamination_failure&quot; REAL,<br>  &quot;has_damage_column_failure&quot; REAL,<br>  &quot;has_damage_beam_failure&quot; REAL,<br>  &quot;has_damage_infill_partition_failure&quot; REAL,<br>  &quot;has_damage_staircase&quot; REAL,<br>  &quot;has_damage_parapet&quot; REAL,<br>  &quot;has_damage_cladding_glazing&quot; REAL,<br>  &quot;has_geotechnical_risk&quot; REAL,<br>  &quot;has_geotechnical_risk_land_settlement&quot; INTEGER,<br>  &quot;has_geotechnical_risk_fault_crack&quot; INTEGER,<br>  &quot;has_geotechnical_risk_liquefaction&quot; INTEGER,<br>  &quot;has_geotechnical_risk_landslide&quot; INTEGER,<br>  &quot;has_geotechnical_risk_rock_fall&quot; INTEGER,<br>  &quot;has_geotechnical_risk_flood&quot; INTEGER,<br>  &quot;has_geotechnical_risk_other&quot; INTEGER<br>)</td>\n",
       "        </tr>\n",
       "        <tr>\n",
       "            <td>index</td>\n",
       "            <td>ix_building_damage_building_id</td>\n",
       "            <td>building_damage</td>\n",
       "            <td>12305</td>\n",
       "            <td>CREATE INDEX &quot;ix_building_damage_building_id&quot;ON &quot;building_damage&quot; (&quot;building_id&quot;)</td>\n",
       "        </tr>\n",
       "        <tr>\n",
       "            <td>table</td>\n",
       "            <td>household_demographics</td>\n",
       "            <td>household_demographics</td>\n",
       "            <td>31601</td>\n",
       "            <td>CREATE TABLE &quot;household_demographics&quot; (<br>&quot;household_id&quot; INTEGER,<br>  &quot;gender_household_head&quot; TEXT,<br>  &quot;age_household_head&quot; REAL,<br>  &quot;caste_household&quot; TEXT,<br>  &quot;education_level_household_head&quot; TEXT,<br>  &quot;income_level_household&quot; TEXT,<br>  &quot;size_household&quot; REAL,<br>  &quot;is_bank_account_present_in_household&quot; REAL<br>)</td>\n",
       "        </tr>\n",
       "        <tr>\n",
       "            <td>index</td>\n",
       "            <td>ix_household_demographics_household_id</td>\n",
       "            <td>household_demographics</td>\n",
       "            <td>31602</td>\n",
       "            <td>CREATE INDEX &quot;ix_household_demographics_household_id&quot;ON &quot;household_demographics&quot; (&quot;household_id&quot;)</td>\n",
       "        </tr>\n",
       "    </tbody>\n",
       "</table>"
      ],
      "text/plain": [
       "[('table', 'id_map', 'id_map', 2, 'CREATE TABLE \"id_map\" (\\n\"household_id\" INTEGER,\\n  \"building_id\" INTEGER,\\n  \"vdcmun_id\" INTEGER,\\n  \"district_id\" INTEGER\\n)'),\n",
       " ('index', 'ix_id_map_household_id', 'id_map', 3, 'CREATE INDEX \"ix_id_map_household_id\"ON \"id_map\" (\"household_id\")'),\n",
       " ('table', 'building_structure', 'building_structure', 2032, 'CREATE TABLE \"building_structure\" (\\n\"building_id\" INTEGER,\\n  \"count_floors_pre_eq\" INTEGER,\\n  \"count_floors_post_eq\" INTEGER,\\n  \"age_building\" IN ... (198 characters truncated) ... or_type\" TEXT,\\n  \"other_floor_type\" TEXT,\\n  \"position\" TEXT,\\n  \"plan_configuration\" TEXT,\\n  \"condition_post_eq\" TEXT,\\n  \"superstructure\" TEXT\\n)'),\n",
       " ('index', 'ix_building_structure_building_id', 'building_structure', 2033, 'CREATE INDEX \"ix_building_structure_building_id\"ON \"building_structure\" (\"building_id\")'),\n",
       " ('table', 'building_damage', 'building_damage', 12302, 'CREATE TABLE \"building_damage\" (\\n\"building_id\" INTEGER,\\n  \"damage_overall_collapse\" TEXT,\\n  \"damage_overall_leaning\" TEXT,\\n  \"damage_overall_adja ... (2923 characters truncated) ... ndslide\" INTEGER,\\n  \"has_geotechnical_risk_rock_fall\" INTEGER,\\n  \"has_geotechnical_risk_flood\" INTEGER,\\n  \"has_geotechnical_risk_other\" INTEGER\\n)'),\n",
       " ('index', 'ix_building_damage_building_id', 'building_damage', 12305, 'CREATE INDEX \"ix_building_damage_building_id\"ON \"building_damage\" (\"building_id\")'),\n",
       " ('table', 'household_demographics', 'household_demographics', 31601, 'CREATE TABLE \"household_demographics\" (\\n\"household_id\" INTEGER,\\n  \"gender_household_head\" TEXT,\\n  \"age_household_head\" REAL,\\n  \"caste_household\"  ... (8 characters truncated) ...  \"education_level_household_head\" TEXT,\\n  \"income_level_household\" TEXT,\\n  \"size_household\" REAL,\\n  \"is_bank_account_present_in_household\" REAL\\n)'),\n",
       " ('index', 'ix_household_demographics_household_id', 'household_demographics', 31602, 'CREATE INDEX \"ix_household_demographics_household_id\"ON \"household_demographics\" (\"household_id\")')]"
      ]
     },
     "execution_count": 13,
     "metadata": {},
     "output_type": "execute_result"
    }
   ],
   "source": [
    "\n",
    "%%sql\n",
    "-- Inspecting the database \n",
    "SELECT *\n",
    "FROM sqlite_schema"
   ]
  },
  {
   "cell_type": "code",
   "execution_count": 14,
   "id": "83fb568b-4fce-4c36-8300-d23d108eedf4",
   "metadata": {},
   "outputs": [
    {
     "name": "stdout",
     "output_type": "stream",
     "text": [
      "   sqlite:///database.db\n",
      " * sqlite:///nepal.sqlite\n",
      "Done.\n"
     ]
    },
    {
     "data": {
      "text/html": [
       "<table>\n",
       "    <thead>\n",
       "        <tr>\n",
       "            <th>name</th>\n",
       "        </tr>\n",
       "    </thead>\n",
       "    <tbody>\n",
       "        <tr>\n",
       "            <td>id_map</td>\n",
       "        </tr>\n",
       "        <tr>\n",
       "            <td>building_structure</td>\n",
       "        </tr>\n",
       "        <tr>\n",
       "            <td>building_damage</td>\n",
       "        </tr>\n",
       "        <tr>\n",
       "            <td>household_demographics</td>\n",
       "        </tr>\n",
       "    </tbody>\n",
       "</table>"
      ],
      "text/plain": [
       "[('id_map',),\n",
       " ('building_structure',),\n",
       " ('building_damage',),\n",
       " ('household_demographics',)]"
      ]
     },
     "execution_count": 14,
     "metadata": {},
     "output_type": "execute_result"
    }
   ],
   "source": [
    "%%sql\n",
    "-- Getting the names of tables in the Database.\n",
    "SELECT name\n",
    "FROM sqlite_schema\n",
    "WHERE type =\"table\"\n"
   ]
  },
  {
   "cell_type": "code",
   "execution_count": 15,
   "id": "bf5d1498-ffc4-4fd5-8b88-c95f80281865",
   "metadata": {},
   "outputs": [
    {
     "name": "stdout",
     "output_type": "stream",
     "text": [
      "   sqlite:///database.db\n",
      " * sqlite:///nepal.sqlite\n",
      "Done.\n"
     ]
    },
    {
     "data": {
      "text/html": [
       "<table>\n",
       "    <thead>\n",
       "        <tr>\n",
       "            <th>household_id</th>\n",
       "            <th>building_id</th>\n",
       "            <th>vdcmun_id</th>\n",
       "            <th>district_id</th>\n",
       "        </tr>\n",
       "    </thead>\n",
       "    <tbody>\n",
       "        <tr>\n",
       "            <td>5601</td>\n",
       "            <td>56</td>\n",
       "            <td>7</td>\n",
       "            <td>1</td>\n",
       "        </tr>\n",
       "        <tr>\n",
       "            <td>6301</td>\n",
       "            <td>63</td>\n",
       "            <td>7</td>\n",
       "            <td>1</td>\n",
       "        </tr>\n",
       "        <tr>\n",
       "            <td>9701</td>\n",
       "            <td>97</td>\n",
       "            <td>7</td>\n",
       "            <td>1</td>\n",
       "        </tr>\n",
       "        <tr>\n",
       "            <td>9901</td>\n",
       "            <td>99</td>\n",
       "            <td>7</td>\n",
       "            <td>1</td>\n",
       "        </tr>\n",
       "        <tr>\n",
       "            <td>11501</td>\n",
       "            <td>115</td>\n",
       "            <td>7</td>\n",
       "            <td>1</td>\n",
       "        </tr>\n",
       "    </tbody>\n",
       "</table>"
      ],
      "text/plain": [
       "[(5601, 56, 7, 1),\n",
       " (6301, 63, 7, 1),\n",
       " (9701, 97, 7, 1),\n",
       " (9901, 99, 7, 1),\n",
       " (11501, 115, 7, 1)]"
      ]
     },
     "execution_count": 15,
     "metadata": {},
     "output_type": "execute_result"
    }
   ],
   "source": [
    "%%sql\n",
    "-- Exploring the id_map Table\n",
    "SELECT *\n",
    "FROM id_map\n",
    "LIMIT 5;"
   ]
  },
  {
   "cell_type": "code",
   "execution_count": 16,
   "id": "06ddb1d3-c0b7-44fe-b2bc-64dc2a214366",
   "metadata": {},
   "outputs": [
    {
     "name": "stdout",
     "output_type": "stream",
     "text": [
      "   sqlite:///database.db\n",
      " * sqlite:///nepal.sqlite\n",
      "Done.\n"
     ]
    },
    {
     "data": {
      "text/html": [
       "<table>\n",
       "    <thead>\n",
       "        <tr>\n",
       "            <th>number_of_observations</th>\n",
       "        </tr>\n",
       "    </thead>\n",
       "    <tbody>\n",
       "        <tr>\n",
       "            <td>249932</td>\n",
       "        </tr>\n",
       "    </tbody>\n",
       "</table>"
      ],
      "text/plain": [
       "[(249932,)]"
      ]
     },
     "execution_count": 16,
     "metadata": {},
     "output_type": "execute_result"
    }
   ],
   "source": [
    "%%sql\n",
    "-- getting the number of observations in the id_map table\n",
    "SELECT COUNT(*) AS number_of_observations\n",
    "FROM id_map\n"
   ]
  },
  {
   "cell_type": "code",
   "execution_count": 18,
   "id": "135df724-f095-4c05-8316-a3408a9334f8",
   "metadata": {},
   "outputs": [
    {
     "name": "stdout",
     "output_type": "stream",
     "text": [
      "   sqlite:///database.db\n",
      " * sqlite:///nepal.sqlite\n",
      "Done.\n"
     ]
    },
    {
     "data": {
      "text/html": [
       "<table>\n",
       "    <thead>\n",
       "        <tr>\n",
       "            <th>district_id</th>\n",
       "        </tr>\n",
       "    </thead>\n",
       "    <tbody>\n",
       "        <tr>\n",
       "            <td>1</td>\n",
       "        </tr>\n",
       "        <tr>\n",
       "            <td>2</td>\n",
       "        </tr>\n",
       "        <tr>\n",
       "            <td>3</td>\n",
       "        </tr>\n",
       "        <tr>\n",
       "            <td>4</td>\n",
       "        </tr>\n",
       "    </tbody>\n",
       "</table>"
      ],
      "text/plain": [
       "[(1,), (2,), (3,), (4,)]"
      ]
     },
     "execution_count": 18,
     "metadata": {},
     "output_type": "execute_result"
    }
   ],
   "source": [
    "%%sql\n",
    "-- Getting the distinct District_id in the id_map Table\n",
    "SELECT distinct(district_id)\n",
    "FROM id_map\n"
   ]
  },
  {
   "cell_type": "markdown",
   "id": "db01a057-f479-49bd-9aff-3ac614eb9d4f",
   "metadata": {},
   "source": [
    "Now lets investigate the number of houses in the id_map Table"
   ]
  },
  {
   "cell_type": "code",
   "execution_count": 19,
   "id": "42c569d4-2db1-4d8d-a724-d3608018a9e3",
   "metadata": {},
   "outputs": [
    {
     "name": "stdout",
     "output_type": "stream",
     "text": [
      "   sqlite:///database.db\n",
      " * sqlite:///nepal.sqlite\n",
      "Done.\n"
     ]
    },
    {
     "data": {
      "text/html": [
       "<table>\n",
       "    <thead>\n",
       "        <tr>\n",
       "            <th>number_of_buildings</th>\n",
       "        </tr>\n",
       "    </thead>\n",
       "    <tbody>\n",
       "        <tr>\n",
       "            <td>234835</td>\n",
       "        </tr>\n",
       "    </tbody>\n",
       "</table>"
      ],
      "text/plain": [
       "[(234835,)]"
      ]
     },
     "execution_count": 19,
     "metadata": {},
     "output_type": "execute_result"
    }
   ],
   "source": [
    "%%sql\n",
    "SELECT count(distinct(building_id)) AS number_of_buildings\n",
    "FROM id_map"
   ]
  },
  {
   "cell_type": "markdown",
   "id": "318c2a91-33d0-441c-9ac6-5cc6f89f53b7",
   "metadata": {},
   "source": [
    "For our Exploration, we'll focus on Gorkha (district 4)."
   ]
  },
  {
   "cell_type": "code",
   "execution_count": 20,
   "id": "165317c8-076d-4d7b-a875-0c8155fe765a",
   "metadata": {},
   "outputs": [
    {
     "name": "stdout",
     "output_type": "stream",
     "text": [
      "   sqlite:///database.db\n",
      " * sqlite:///nepal.sqlite\n",
      "Done.\n"
     ]
    },
    {
     "data": {
      "text/html": [
       "<table>\n",
       "    <thead>\n",
       "        <tr>\n",
       "            <th>household_id</th>\n",
       "            <th>building_id</th>\n",
       "            <th>vdcmun_id</th>\n",
       "            <th>district_id</th>\n",
       "        </tr>\n",
       "    </thead>\n",
       "    <tbody>\n",
       "        <tr>\n",
       "            <td>16400201</td>\n",
       "            <td>164002</td>\n",
       "            <td>38</td>\n",
       "            <td>4</td>\n",
       "        </tr>\n",
       "        <tr>\n",
       "            <td>16408101</td>\n",
       "            <td>164081</td>\n",
       "            <td>38</td>\n",
       "            <td>4</td>\n",
       "        </tr>\n",
       "        <tr>\n",
       "            <td>16408901</td>\n",
       "            <td>164089</td>\n",
       "            <td>38</td>\n",
       "            <td>4</td>\n",
       "        </tr>\n",
       "        <tr>\n",
       "            <td>16409801</td>\n",
       "            <td>164098</td>\n",
       "            <td>38</td>\n",
       "            <td>4</td>\n",
       "        </tr>\n",
       "        <tr>\n",
       "            <td>16410301</td>\n",
       "            <td>164103</td>\n",
       "            <td>38</td>\n",
       "            <td>4</td>\n",
       "        </tr>\n",
       "    </tbody>\n",
       "</table>"
      ],
      "text/plain": [
       "[(16400201, 164002, 38, 4),\n",
       " (16408101, 164081, 38, 4),\n",
       " (16408901, 164089, 38, 4),\n",
       " (16409801, 164098, 38, 4),\n",
       " (16410301, 164103, 38, 4)]"
      ]
     },
     "execution_count": 20,
     "metadata": {},
     "output_type": "execute_result"
    }
   ],
   "source": [
    "%%sql\n",
    "SELECT *\n",
    "FROM id_map\n",
    "WHERE district_id = 4\n",
    "LIMIT 5;"
   ]
  },
  {
   "cell_type": "markdown",
   "id": "caf20690-b801-4d0c-b2c7-333546c8f424",
   "metadata": {},
   "source": [
    "Extracting  observations in the id_map  from Gorkha district"
   ]
  },
  {
   "cell_type": "code",
   "execution_count": 22,
   "id": "53fe3c17-d43a-4f05-9fe9-f12a1358aaa3",
   "metadata": {},
   "outputs": [
    {
     "name": "stdout",
     "output_type": "stream",
     "text": [
      "   sqlite:///database.db\n",
      " * sqlite:///nepal.sqlite\n",
      "Done.\n"
     ]
    },
    {
     "data": {
      "text/html": [
       "<table>\n",
       "    <thead>\n",
       "        <tr>\n",
       "            <th>no_observations_from_gorkha</th>\n",
       "        </tr>\n",
       "    </thead>\n",
       "    <tbody>\n",
       "        <tr>\n",
       "            <td>75883</td>\n",
       "        </tr>\n",
       "    </tbody>\n",
       "</table>"
      ],
      "text/plain": [
       "[(75883,)]"
      ]
     },
     "execution_count": 22,
     "metadata": {},
     "output_type": "execute_result"
    }
   ],
   "source": [
    "%%sql\n",
    "SELECT COUNT(*) no_observations_from_gorkha\n",
    "FROM id_map\n",
    "WHERE  district_id = 4"
   ]
  },
  {
   "cell_type": "markdown",
   "id": "e0571567-ebe1-46cb-b94b-473bb14ef1c3",
   "metadata": {},
   "source": [
    " Now, lets consider  buildings in the id_map table that  are in Gorkha."
   ]
  },
  {
   "cell_type": "code",
   "execution_count": 23,
   "id": "dd7e6522-f0e5-448e-ba7c-2fe7242c161a",
   "metadata": {},
   "outputs": [
    {
     "name": "stdout",
     "output_type": "stream",
     "text": [
      "   sqlite:///database.db\n",
      " * sqlite:///nepal.sqlite\n",
      "Done.\n"
     ]
    },
    {
     "data": {
      "text/html": [
       "<table>\n",
       "    <thead>\n",
       "        <tr>\n",
       "            <th>no_unique_buiding_gorkha</th>\n",
       "        </tr>\n",
       "    </thead>\n",
       "    <tbody>\n",
       "        <tr>\n",
       "            <td>70836</td>\n",
       "        </tr>\n",
       "    </tbody>\n",
       "</table>"
      ],
      "text/plain": [
       "[(70836,)]"
      ]
     },
     "execution_count": 23,
     "metadata": {},
     "output_type": "execute_result"
    }
   ],
   "source": [
    "%%sql\n",
    "SELECT count(distinct(building_id)) AS no_unique_buiding_gorkha\n",
    "FROM id_map\n",
    "WHERE district_id = 4"
   ]
  },
  {
   "cell_type": "markdown",
   "id": "c26ef254-7dda-41fa-af70-86a4d582e369",
   "metadata": {},
   "source": [
    "Exloring the Building structure Table."
   ]
  },
  {
   "cell_type": "code",
   "execution_count": 26,
   "id": "de65ea49-2249-4cc1-a731-b1c8588bbed2",
   "metadata": {},
   "outputs": [
    {
     "name": "stdout",
     "output_type": "stream",
     "text": [
      "   sqlite:///database.db\n",
      " * sqlite:///nepal.sqlite\n",
      "Done.\n"
     ]
    },
    {
     "data": {
      "text/html": [
       "<table>\n",
       "    <thead>\n",
       "        <tr>\n",
       "            <th>building_id</th>\n",
       "            <th>count_floors_pre_eq</th>\n",
       "            <th>count_floors_post_eq</th>\n",
       "            <th>age_building</th>\n",
       "            <th>plinth_area_sq_ft</th>\n",
       "            <th>height_ft_pre_eq</th>\n",
       "            <th>height_ft_post_eq</th>\n",
       "            <th>land_surface_condition</th>\n",
       "            <th>foundation_type</th>\n",
       "            <th>roof_type</th>\n",
       "            <th>ground_floor_type</th>\n",
       "            <th>other_floor_type</th>\n",
       "            <th>position</th>\n",
       "            <th>plan_configuration</th>\n",
       "            <th>condition_post_eq</th>\n",
       "            <th>superstructure</th>\n",
       "        </tr>\n",
       "    </thead>\n",
       "    <tbody>\n",
       "        <tr>\n",
       "            <td>1</td>\n",
       "            <td>1</td>\n",
       "            <td>1</td>\n",
       "            <td>9</td>\n",
       "            <td>288</td>\n",
       "            <td>9</td>\n",
       "            <td>9</td>\n",
       "            <td>Flat</td>\n",
       "            <td>Other</td>\n",
       "            <td>Bamboo/Timber-Light roof</td>\n",
       "            <td>Mud</td>\n",
       "            <td>Not applicable</td>\n",
       "            <td>Not attached</td>\n",
       "            <td>Rectangular</td>\n",
       "            <td>Damaged-Used in risk</td>\n",
       "            <td>Stone, mud mortar</td>\n",
       "        </tr>\n",
       "        <tr>\n",
       "            <td>2</td>\n",
       "            <td>1</td>\n",
       "            <td>1</td>\n",
       "            <td>15</td>\n",
       "            <td>364</td>\n",
       "            <td>9</td>\n",
       "            <td>9</td>\n",
       "            <td>Flat</td>\n",
       "            <td>Other</td>\n",
       "            <td>Bamboo/Timber-Light roof</td>\n",
       "            <td>Mud</td>\n",
       "            <td>Not applicable</td>\n",
       "            <td>Not attached</td>\n",
       "            <td>Rectangular</td>\n",
       "            <td>Damaged-Repaired and used</td>\n",
       "            <td>Stone, mud mortar</td>\n",
       "        </tr>\n",
       "        <tr>\n",
       "            <td>3</td>\n",
       "            <td>1</td>\n",
       "            <td>1</td>\n",
       "            <td>20</td>\n",
       "            <td>384</td>\n",
       "            <td>9</td>\n",
       "            <td>9</td>\n",
       "            <td>Flat</td>\n",
       "            <td>Other</td>\n",
       "            <td>Bamboo/Timber-Light roof</td>\n",
       "            <td>Mud</td>\n",
       "            <td>Not applicable</td>\n",
       "            <td>Not attached</td>\n",
       "            <td>Rectangular</td>\n",
       "            <td>Damaged-Repaired and used</td>\n",
       "            <td>Stone, mud mortar</td>\n",
       "        </tr>\n",
       "        <tr>\n",
       "            <td>4</td>\n",
       "            <td>1</td>\n",
       "            <td>1</td>\n",
       "            <td>20</td>\n",
       "            <td>312</td>\n",
       "            <td>9</td>\n",
       "            <td>9</td>\n",
       "            <td>Flat</td>\n",
       "            <td>Other</td>\n",
       "            <td>Bamboo/Timber-Light roof</td>\n",
       "            <td>Mud</td>\n",
       "            <td>Not applicable</td>\n",
       "            <td>Not attached</td>\n",
       "            <td>Rectangular</td>\n",
       "            <td>Damaged-Repaired and used</td>\n",
       "            <td>Stone, mud mortar</td>\n",
       "        </tr>\n",
       "        <tr>\n",
       "            <td>5</td>\n",
       "            <td>1</td>\n",
       "            <td>1</td>\n",
       "            <td>30</td>\n",
       "            <td>308</td>\n",
       "            <td>9</td>\n",
       "            <td>9</td>\n",
       "            <td>Flat</td>\n",
       "            <td>Other</td>\n",
       "            <td>Bamboo/Timber-Light roof</td>\n",
       "            <td>Mud</td>\n",
       "            <td>Not applicable</td>\n",
       "            <td>Not attached</td>\n",
       "            <td>Rectangular</td>\n",
       "            <td>Damaged-Repaired and used</td>\n",
       "            <td>Stone, mud mortar</td>\n",
       "        </tr>\n",
       "    </tbody>\n",
       "</table>"
      ],
      "text/plain": [
       "[(1, 1, 1, 9, 288, 9, 9, 'Flat', 'Other', 'Bamboo/Timber-Light roof', 'Mud', 'Not applicable', 'Not attached', 'Rectangular', 'Damaged-Used in risk', 'Stone, mud mortar'),\n",
       " (2, 1, 1, 15, 364, 9, 9, 'Flat', 'Other', 'Bamboo/Timber-Light roof', 'Mud', 'Not applicable', 'Not attached', 'Rectangular', 'Damaged-Repaired and used', 'Stone, mud mortar'),\n",
       " (3, 1, 1, 20, 384, 9, 9, 'Flat', 'Other', 'Bamboo/Timber-Light roof', 'Mud', 'Not applicable', 'Not attached', 'Rectangular', 'Damaged-Repaired and used', 'Stone, mud mortar'),\n",
       " (4, 1, 1, 20, 312, 9, 9, 'Flat', 'Other', 'Bamboo/Timber-Light roof', 'Mud', 'Not applicable', 'Not attached', 'Rectangular', 'Damaged-Repaired and used', 'Stone, mud mortar'),\n",
       " (5, 1, 1, 30, 308, 9, 9, 'Flat', 'Other', 'Bamboo/Timber-Light roof', 'Mud', 'Not applicable', 'Not attached', 'Rectangular', 'Damaged-Repaired and used', 'Stone, mud mortar')]"
      ]
     },
     "execution_count": 26,
     "metadata": {},
     "output_type": "execute_result"
    }
   ],
   "source": [
    "%%sql\n",
    "SELECT *\n",
    "FROM building_structure\n",
    "LIMIT 5;"
   ]
  },
  {
   "cell_type": "code",
   "execution_count": 27,
   "id": "c97e0d2f-5632-4a99-9966-37920fe85fb9",
   "metadata": {},
   "outputs": [
    {
     "name": "stdout",
     "output_type": "stream",
     "text": [
      "   sqlite:///database.db\n",
      " * sqlite:///nepal.sqlite\n",
      "Done.\n"
     ]
    },
    {
     "data": {
      "text/html": [
       "<table>\n",
       "    <thead>\n",
       "        <tr>\n",
       "            <th>number_of_buildings</th>\n",
       "        </tr>\n",
       "    </thead>\n",
       "    <tbody>\n",
       "        <tr>\n",
       "            <td>234835</td>\n",
       "        </tr>\n",
       "    </tbody>\n",
       "</table>"
      ],
      "text/plain": [
       "[(234835,)]"
      ]
     },
     "execution_count": 27,
     "metadata": {},
     "output_type": "execute_result"
    }
   ],
   "source": [
    "%%sql\n",
    "-- Number of buildings in the Building structure Table\n",
    "SELECT COUNT(*) AS number_of_buildings\n",
    "FROM building_structure"
   ]
  },
  {
   "cell_type": "markdown",
   "id": "16a1b2ce-391f-4e4e-bc9e-37b132bb9eca",
   "metadata": {},
   "source": [
    "There are over 200,000 buildings in the building_structure table, but let us limit it to those that are in Gorkha.Hence we join the id-map and building_structure tables ."
   ]
  },
  {
   "cell_type": "code",
   "execution_count": 28,
   "id": "d1158c68-d168-462e-ac23-52942d8657b5",
   "metadata": {},
   "outputs": [
    {
     "name": "stdout",
     "output_type": "stream",
     "text": [
      "   sqlite:///database.db\n",
      " * sqlite:///nepal.sqlite\n",
      "Done.\n"
     ]
    },
    {
     "data": {
      "text/html": [
       "<table>\n",
       "    <thead>\n",
       "        <tr>\n",
       "            <th>household_id</th>\n",
       "            <th>building_id</th>\n",
       "            <th>vdcmun_id</th>\n",
       "            <th>district_id</th>\n",
       "            <th>building_id_1</th>\n",
       "            <th>count_floors_pre_eq</th>\n",
       "            <th>count_floors_post_eq</th>\n",
       "            <th>age_building</th>\n",
       "            <th>plinth_area_sq_ft</th>\n",
       "            <th>height_ft_pre_eq</th>\n",
       "            <th>height_ft_post_eq</th>\n",
       "            <th>land_surface_condition</th>\n",
       "            <th>foundation_type</th>\n",
       "            <th>roof_type</th>\n",
       "            <th>ground_floor_type</th>\n",
       "            <th>other_floor_type</th>\n",
       "            <th>position</th>\n",
       "            <th>plan_configuration</th>\n",
       "            <th>condition_post_eq</th>\n",
       "            <th>superstructure</th>\n",
       "        </tr>\n",
       "    </thead>\n",
       "    <tbody>\n",
       "        <tr>\n",
       "            <td>16400201</td>\n",
       "            <td>164002</td>\n",
       "            <td>38</td>\n",
       "            <td>4</td>\n",
       "            <td>164002</td>\n",
       "            <td>3</td>\n",
       "            <td>3</td>\n",
       "            <td>20</td>\n",
       "            <td>560</td>\n",
       "            <td>18</td>\n",
       "            <td>18</td>\n",
       "            <td>Flat</td>\n",
       "            <td>Mud mortar-Stone/Brick</td>\n",
       "            <td>Bamboo/Timber-Light roof</td>\n",
       "            <td>Mud</td>\n",
       "            <td>TImber/Bamboo-Mud</td>\n",
       "            <td>Not attached</td>\n",
       "            <td>Rectangular</td>\n",
       "            <td>Damaged-Repaired and used</td>\n",
       "            <td>Stone, mud mortar</td>\n",
       "        </tr>\n",
       "        <tr>\n",
       "            <td>16408101</td>\n",
       "            <td>164081</td>\n",
       "            <td>38</td>\n",
       "            <td>4</td>\n",
       "            <td>164081</td>\n",
       "            <td>2</td>\n",
       "            <td>2</td>\n",
       "            <td>21</td>\n",
       "            <td>200</td>\n",
       "            <td>12</td>\n",
       "            <td>12</td>\n",
       "            <td>Flat</td>\n",
       "            <td>Mud mortar-Stone/Brick</td>\n",
       "            <td>Bamboo/Timber-Light roof</td>\n",
       "            <td>Mud</td>\n",
       "            <td>TImber/Bamboo-Mud</td>\n",
       "            <td>Not attached</td>\n",
       "            <td>Rectangular</td>\n",
       "            <td>Damaged-Used in risk</td>\n",
       "            <td>Stone, mud mortar</td>\n",
       "        </tr>\n",
       "        <tr>\n",
       "            <td>16408901</td>\n",
       "            <td>164089</td>\n",
       "            <td>38</td>\n",
       "            <td>4</td>\n",
       "            <td>164089</td>\n",
       "            <td>3</td>\n",
       "            <td>3</td>\n",
       "            <td>18</td>\n",
       "            <td>315</td>\n",
       "            <td>20</td>\n",
       "            <td>20</td>\n",
       "            <td>Flat</td>\n",
       "            <td>Mud mortar-Stone/Brick</td>\n",
       "            <td>Bamboo/Timber-Light roof</td>\n",
       "            <td>Mud</td>\n",
       "            <td>TImber/Bamboo-Mud</td>\n",
       "            <td>Not attached</td>\n",
       "            <td>Rectangular</td>\n",
       "            <td>Damaged-Used in risk</td>\n",
       "            <td>Stone, mud mortar</td>\n",
       "        </tr>\n",
       "        <tr>\n",
       "            <td>16409801</td>\n",
       "            <td>164098</td>\n",
       "            <td>38</td>\n",
       "            <td>4</td>\n",
       "            <td>164098</td>\n",
       "            <td>2</td>\n",
       "            <td>2</td>\n",
       "            <td>45</td>\n",
       "            <td>290</td>\n",
       "            <td>13</td>\n",
       "            <td>13</td>\n",
       "            <td>Flat</td>\n",
       "            <td>Mud mortar-Stone/Brick</td>\n",
       "            <td>Bamboo/Timber-Light roof</td>\n",
       "            <td>Mud</td>\n",
       "            <td>TImber/Bamboo-Mud</td>\n",
       "            <td>Not attached</td>\n",
       "            <td>Rectangular</td>\n",
       "            <td>Damaged-Used in risk</td>\n",
       "            <td>Stone, mud mortar</td>\n",
       "        </tr>\n",
       "        <tr>\n",
       "            <td>16410301</td>\n",
       "            <td>164103</td>\n",
       "            <td>38</td>\n",
       "            <td>4</td>\n",
       "            <td>164103</td>\n",
       "            <td>2</td>\n",
       "            <td>2</td>\n",
       "            <td>21</td>\n",
       "            <td>230</td>\n",
       "            <td>13</td>\n",
       "            <td>13</td>\n",
       "            <td>Flat</td>\n",
       "            <td>Mud mortar-Stone/Brick</td>\n",
       "            <td>Bamboo/Timber-Light roof</td>\n",
       "            <td>Mud</td>\n",
       "            <td>TImber/Bamboo-Mud</td>\n",
       "            <td>Not attached</td>\n",
       "            <td>Rectangular</td>\n",
       "            <td>Damaged-Used in risk</td>\n",
       "            <td>Stone, mud mortar</td>\n",
       "        </tr>\n",
       "    </tbody>\n",
       "</table>"
      ],
      "text/plain": [
       "[(16400201, 164002, 38, 4, 164002, 3, 3, 20, 560, 18, 18, 'Flat', 'Mud mortar-Stone/Brick', 'Bamboo/Timber-Light roof', 'Mud', 'TImber/Bamboo-Mud', 'Not attached', 'Rectangular', 'Damaged-Repaired and used', 'Stone, mud mortar'),\n",
       " (16408101, 164081, 38, 4, 164081, 2, 2, 21, 200, 12, 12, 'Flat', 'Mud mortar-Stone/Brick', 'Bamboo/Timber-Light roof', 'Mud', 'TImber/Bamboo-Mud', 'Not attached', 'Rectangular', 'Damaged-Used in risk', 'Stone, mud mortar'),\n",
       " (16408901, 164089, 38, 4, 164089, 3, 3, 18, 315, 20, 20, 'Flat', 'Mud mortar-Stone/Brick', 'Bamboo/Timber-Light roof', 'Mud', 'TImber/Bamboo-Mud', 'Not attached', 'Rectangular', 'Damaged-Used in risk', 'Stone, mud mortar'),\n",
       " (16409801, 164098, 38, 4, 164098, 2, 2, 45, 290, 13, 13, 'Flat', 'Mud mortar-Stone/Brick', 'Bamboo/Timber-Light roof', 'Mud', 'TImber/Bamboo-Mud', 'Not attached', 'Rectangular', 'Damaged-Used in risk', 'Stone, mud mortar'),\n",
       " (16410301, 164103, 38, 4, 164103, 2, 2, 21, 230, 13, 13, 'Flat', 'Mud mortar-Stone/Brick', 'Bamboo/Timber-Light roof', 'Mud', 'TImber/Bamboo-Mud', 'Not attached', 'Rectangular', 'Damaged-Used in risk', 'Stone, mud mortar')]"
      ]
     },
     "execution_count": 28,
     "metadata": {},
     "output_type": "execute_result"
    }
   ],
   "source": [
    "%%sql\n",
    "SELECT *\n",
    "FROM id_map AS i\n",
    "JOIN building_structure AS b\n",
    "ON i.building_id = b.building_id \n",
    "WHERE i.district_id = 4\n",
    "LIMIT 5;"
   ]
  },
  {
   "cell_type": "markdown",
   "id": "11e45771-beed-4834-9a00-e3f746df1417",
   "metadata": {},
   "source": [
    "Now let us return the Table such that it represents each a unique building for each row ."
   ]
  },
  {
   "cell_type": "code",
   "execution_count": 30,
   "id": "00028a3c-ae3f-4079-b600-1d3b0bb69b32",
   "metadata": {},
   "outputs": [
    {
     "name": "stdout",
     "output_type": "stream",
     "text": [
      "   sqlite:///database.db\n",
      " * sqlite:///nepal.sqlite\n",
      "Done.\n"
     ]
    },
    {
     "data": {
      "text/html": [
       "<table>\n",
       "    <thead>\n",
       "        <tr>\n",
       "            <th>building_id</th>\n",
       "            <th>building_id_1</th>\n",
       "            <th>count_floors_pre_eq</th>\n",
       "            <th>count_floors_post_eq</th>\n",
       "            <th>age_building</th>\n",
       "            <th>plinth_area_sq_ft</th>\n",
       "            <th>height_ft_pre_eq</th>\n",
       "            <th>height_ft_post_eq</th>\n",
       "            <th>land_surface_condition</th>\n",
       "            <th>foundation_type</th>\n",
       "            <th>roof_type</th>\n",
       "            <th>ground_floor_type</th>\n",
       "            <th>other_floor_type</th>\n",
       "            <th>position</th>\n",
       "            <th>plan_configuration</th>\n",
       "            <th>condition_post_eq</th>\n",
       "            <th>superstructure</th>\n",
       "        </tr>\n",
       "    </thead>\n",
       "    <tbody>\n",
       "        <tr>\n",
       "            <td>164002</td>\n",
       "            <td>164002</td>\n",
       "            <td>3</td>\n",
       "            <td>3</td>\n",
       "            <td>20</td>\n",
       "            <td>560</td>\n",
       "            <td>18</td>\n",
       "            <td>18</td>\n",
       "            <td>Flat</td>\n",
       "            <td>Mud mortar-Stone/Brick</td>\n",
       "            <td>Bamboo/Timber-Light roof</td>\n",
       "            <td>Mud</td>\n",
       "            <td>TImber/Bamboo-Mud</td>\n",
       "            <td>Not attached</td>\n",
       "            <td>Rectangular</td>\n",
       "            <td>Damaged-Repaired and used</td>\n",
       "            <td>Stone, mud mortar</td>\n",
       "        </tr>\n",
       "        <tr>\n",
       "            <td>164081</td>\n",
       "            <td>164081</td>\n",
       "            <td>2</td>\n",
       "            <td>2</td>\n",
       "            <td>21</td>\n",
       "            <td>200</td>\n",
       "            <td>12</td>\n",
       "            <td>12</td>\n",
       "            <td>Flat</td>\n",
       "            <td>Mud mortar-Stone/Brick</td>\n",
       "            <td>Bamboo/Timber-Light roof</td>\n",
       "            <td>Mud</td>\n",
       "            <td>TImber/Bamboo-Mud</td>\n",
       "            <td>Not attached</td>\n",
       "            <td>Rectangular</td>\n",
       "            <td>Damaged-Used in risk</td>\n",
       "            <td>Stone, mud mortar</td>\n",
       "        </tr>\n",
       "        <tr>\n",
       "            <td>164089</td>\n",
       "            <td>164089</td>\n",
       "            <td>3</td>\n",
       "            <td>3</td>\n",
       "            <td>18</td>\n",
       "            <td>315</td>\n",
       "            <td>20</td>\n",
       "            <td>20</td>\n",
       "            <td>Flat</td>\n",
       "            <td>Mud mortar-Stone/Brick</td>\n",
       "            <td>Bamboo/Timber-Light roof</td>\n",
       "            <td>Mud</td>\n",
       "            <td>TImber/Bamboo-Mud</td>\n",
       "            <td>Not attached</td>\n",
       "            <td>Rectangular</td>\n",
       "            <td>Damaged-Used in risk</td>\n",
       "            <td>Stone, mud mortar</td>\n",
       "        </tr>\n",
       "        <tr>\n",
       "            <td>164098</td>\n",
       "            <td>164098</td>\n",
       "            <td>2</td>\n",
       "            <td>2</td>\n",
       "            <td>45</td>\n",
       "            <td>290</td>\n",
       "            <td>13</td>\n",
       "            <td>13</td>\n",
       "            <td>Flat</td>\n",
       "            <td>Mud mortar-Stone/Brick</td>\n",
       "            <td>Bamboo/Timber-Light roof</td>\n",
       "            <td>Mud</td>\n",
       "            <td>TImber/Bamboo-Mud</td>\n",
       "            <td>Not attached</td>\n",
       "            <td>Rectangular</td>\n",
       "            <td>Damaged-Used in risk</td>\n",
       "            <td>Stone, mud mortar</td>\n",
       "        </tr>\n",
       "        <tr>\n",
       "            <td>164103</td>\n",
       "            <td>164103</td>\n",
       "            <td>2</td>\n",
       "            <td>2</td>\n",
       "            <td>21</td>\n",
       "            <td>230</td>\n",
       "            <td>13</td>\n",
       "            <td>13</td>\n",
       "            <td>Flat</td>\n",
       "            <td>Mud mortar-Stone/Brick</td>\n",
       "            <td>Bamboo/Timber-Light roof</td>\n",
       "            <td>Mud</td>\n",
       "            <td>TImber/Bamboo-Mud</td>\n",
       "            <td>Not attached</td>\n",
       "            <td>Rectangular</td>\n",
       "            <td>Damaged-Used in risk</td>\n",
       "            <td>Stone, mud mortar</td>\n",
       "        </tr>\n",
       "    </tbody>\n",
       "</table>"
      ],
      "text/plain": [
       "[(164002, 164002, 3, 3, 20, 560, 18, 18, 'Flat', 'Mud mortar-Stone/Brick', 'Bamboo/Timber-Light roof', 'Mud', 'TImber/Bamboo-Mud', 'Not attached', 'Rectangular', 'Damaged-Repaired and used', 'Stone, mud mortar'),\n",
       " (164081, 164081, 2, 2, 21, 200, 12, 12, 'Flat', 'Mud mortar-Stone/Brick', 'Bamboo/Timber-Light roof', 'Mud', 'TImber/Bamboo-Mud', 'Not attached', 'Rectangular', 'Damaged-Used in risk', 'Stone, mud mortar'),\n",
       " (164089, 164089, 3, 3, 18, 315, 20, 20, 'Flat', 'Mud mortar-Stone/Brick', 'Bamboo/Timber-Light roof', 'Mud', 'TImber/Bamboo-Mud', 'Not attached', 'Rectangular', 'Damaged-Used in risk', 'Stone, mud mortar'),\n",
       " (164098, 164098, 2, 2, 45, 290, 13, 13, 'Flat', 'Mud mortar-Stone/Brick', 'Bamboo/Timber-Light roof', 'Mud', 'TImber/Bamboo-Mud', 'Not attached', 'Rectangular', 'Damaged-Used in risk', 'Stone, mud mortar'),\n",
       " (164103, 164103, 2, 2, 21, 230, 13, 13, 'Flat', 'Mud mortar-Stone/Brick', 'Bamboo/Timber-Light roof', 'Mud', 'TImber/Bamboo-Mud', 'Not attached', 'Rectangular', 'Damaged-Used in risk', 'Stone, mud mortar')]"
      ]
     },
     "execution_count": 30,
     "metadata": {},
     "output_type": "execute_result"
    }
   ],
   "source": [
    "%%sql\n",
    "SELECT distinct(i.building_id),b.*\n",
    "FROM id_map AS i \n",
    "JOIN building_structure AS b\n",
    "ON i.building_id = b.building_id\n",
    "WHERE i.district_id = 4\n",
    "limit 5;"
   ]
  },
  {
   "cell_type": "markdown",
   "id": "b163b98e-b10c-4008-bff2-ed8f6f68e2f7",
   "metadata": {},
   "source": [
    "I combined the id_map and building_structure tables to create a table with all the buildings in Gorkha, but the final piece of data needed for our model, the damage that each building sustained in the earthquake, is in the building_damage table."
   ]
  },
  {
   "cell_type": "code",
   "execution_count": 31,
   "id": "2ec6c657-86ee-40ab-9c0a-c4a098eea368",
   "metadata": {},
   "outputs": [
    {
     "name": "stdout",
     "output_type": "stream",
     "text": [
      "   sqlite:///database.db\n",
      " * sqlite:///nepal.sqlite\n",
      "Done.\n"
     ]
    },
    {
     "data": {
      "text/html": [
       "<table>\n",
       "    <thead>\n",
       "        <tr>\n",
       "            <th>building_id</th>\n",
       "            <th>building_id_1</th>\n",
       "            <th>count_floors_pre_eq</th>\n",
       "            <th>count_floors_post_eq</th>\n",
       "            <th>age_building</th>\n",
       "            <th>plinth_area_sq_ft</th>\n",
       "            <th>height_ft_pre_eq</th>\n",
       "            <th>height_ft_post_eq</th>\n",
       "            <th>land_surface_condition</th>\n",
       "            <th>foundation_type</th>\n",
       "            <th>roof_type</th>\n",
       "            <th>ground_floor_type</th>\n",
       "            <th>other_floor_type</th>\n",
       "            <th>position</th>\n",
       "            <th>plan_configuration</th>\n",
       "            <th>condition_post_eq</th>\n",
       "            <th>superstructure</th>\n",
       "        </tr>\n",
       "    </thead>\n",
       "    <tbody>\n",
       "        <tr>\n",
       "            <td>164002</td>\n",
       "            <td>164002</td>\n",
       "            <td>3</td>\n",
       "            <td>3</td>\n",
       "            <td>20</td>\n",
       "            <td>560</td>\n",
       "            <td>18</td>\n",
       "            <td>18</td>\n",
       "            <td>Flat</td>\n",
       "            <td>Mud mortar-Stone/Brick</td>\n",
       "            <td>Bamboo/Timber-Light roof</td>\n",
       "            <td>Mud</td>\n",
       "            <td>TImber/Bamboo-Mud</td>\n",
       "            <td>Not attached</td>\n",
       "            <td>Rectangular</td>\n",
       "            <td>Damaged-Repaired and used</td>\n",
       "            <td>Stone, mud mortar</td>\n",
       "        </tr>\n",
       "        <tr>\n",
       "            <td>164081</td>\n",
       "            <td>164081</td>\n",
       "            <td>2</td>\n",
       "            <td>2</td>\n",
       "            <td>21</td>\n",
       "            <td>200</td>\n",
       "            <td>12</td>\n",
       "            <td>12</td>\n",
       "            <td>Flat</td>\n",
       "            <td>Mud mortar-Stone/Brick</td>\n",
       "            <td>Bamboo/Timber-Light roof</td>\n",
       "            <td>Mud</td>\n",
       "            <td>TImber/Bamboo-Mud</td>\n",
       "            <td>Not attached</td>\n",
       "            <td>Rectangular</td>\n",
       "            <td>Damaged-Used in risk</td>\n",
       "            <td>Stone, mud mortar</td>\n",
       "        </tr>\n",
       "        <tr>\n",
       "            <td>164089</td>\n",
       "            <td>164089</td>\n",
       "            <td>3</td>\n",
       "            <td>3</td>\n",
       "            <td>18</td>\n",
       "            <td>315</td>\n",
       "            <td>20</td>\n",
       "            <td>20</td>\n",
       "            <td>Flat</td>\n",
       "            <td>Mud mortar-Stone/Brick</td>\n",
       "            <td>Bamboo/Timber-Light roof</td>\n",
       "            <td>Mud</td>\n",
       "            <td>TImber/Bamboo-Mud</td>\n",
       "            <td>Not attached</td>\n",
       "            <td>Rectangular</td>\n",
       "            <td>Damaged-Used in risk</td>\n",
       "            <td>Stone, mud mortar</td>\n",
       "        </tr>\n",
       "        <tr>\n",
       "            <td>164098</td>\n",
       "            <td>164098</td>\n",
       "            <td>2</td>\n",
       "            <td>2</td>\n",
       "            <td>45</td>\n",
       "            <td>290</td>\n",
       "            <td>13</td>\n",
       "            <td>13</td>\n",
       "            <td>Flat</td>\n",
       "            <td>Mud mortar-Stone/Brick</td>\n",
       "            <td>Bamboo/Timber-Light roof</td>\n",
       "            <td>Mud</td>\n",
       "            <td>TImber/Bamboo-Mud</td>\n",
       "            <td>Not attached</td>\n",
       "            <td>Rectangular</td>\n",
       "            <td>Damaged-Used in risk</td>\n",
       "            <td>Stone, mud mortar</td>\n",
       "        </tr>\n",
       "        <tr>\n",
       "            <td>164103</td>\n",
       "            <td>164103</td>\n",
       "            <td>2</td>\n",
       "            <td>2</td>\n",
       "            <td>21</td>\n",
       "            <td>230</td>\n",
       "            <td>13</td>\n",
       "            <td>13</td>\n",
       "            <td>Flat</td>\n",
       "            <td>Mud mortar-Stone/Brick</td>\n",
       "            <td>Bamboo/Timber-Light roof</td>\n",
       "            <td>Mud</td>\n",
       "            <td>TImber/Bamboo-Mud</td>\n",
       "            <td>Not attached</td>\n",
       "            <td>Rectangular</td>\n",
       "            <td>Damaged-Used in risk</td>\n",
       "            <td>Stone, mud mortar</td>\n",
       "        </tr>\n",
       "    </tbody>\n",
       "</table>"
      ],
      "text/plain": [
       "[(164002, 164002, 3, 3, 20, 560, 18, 18, 'Flat', 'Mud mortar-Stone/Brick', 'Bamboo/Timber-Light roof', 'Mud', 'TImber/Bamboo-Mud', 'Not attached', 'Rectangular', 'Damaged-Repaired and used', 'Stone, mud mortar'),\n",
       " (164081, 164081, 2, 2, 21, 200, 12, 12, 'Flat', 'Mud mortar-Stone/Brick', 'Bamboo/Timber-Light roof', 'Mud', 'TImber/Bamboo-Mud', 'Not attached', 'Rectangular', 'Damaged-Used in risk', 'Stone, mud mortar'),\n",
       " (164089, 164089, 3, 3, 18, 315, 20, 20, 'Flat', 'Mud mortar-Stone/Brick', 'Bamboo/Timber-Light roof', 'Mud', 'TImber/Bamboo-Mud', 'Not attached', 'Rectangular', 'Damaged-Used in risk', 'Stone, mud mortar'),\n",
       " (164098, 164098, 2, 2, 45, 290, 13, 13, 'Flat', 'Mud mortar-Stone/Brick', 'Bamboo/Timber-Light roof', 'Mud', 'TImber/Bamboo-Mud', 'Not attached', 'Rectangular', 'Damaged-Used in risk', 'Stone, mud mortar'),\n",
       " (164103, 164103, 2, 2, 21, 230, 13, 13, 'Flat', 'Mud mortar-Stone/Brick', 'Bamboo/Timber-Light roof', 'Mud', 'TImber/Bamboo-Mud', 'Not attached', 'Rectangular', 'Damaged-Used in risk', 'Stone, mud mortar')]"
      ]
     },
     "execution_count": 31,
     "metadata": {},
     "output_type": "execute_result"
    }
   ],
   "source": [
    "%%sql\n",
    "SELECT distinct(i.building_id),b.*\n",
    "FROM id_map AS i \n",
    "JOIN building_structure AS b\n",
    "ON i.building_id = b.building_id\n",
    "WHERE i.district_id = 4\n",
    "limit 5;"
   ]
  },
  {
   "cell_type": "markdown",
   "id": "0c0193cd-ab74-4531-97b1-632465ca6427",
   "metadata": {},
   "source": [
    "Now the above combined table is posessed with every dinstict building from the id_map Table, all Features from the Building structure Table and the damage grade feature from the Building damage Table."
   ]
  },
  {
   "cell_type": "markdown",
   "id": "d9e47f74-ff74-4fae-bd10-ef6543d618dd",
   "metadata": {},
   "source": [
    "# Prepare Data"
   ]
  },
  {
   "cell_type": "markdown",
   "id": "3610c857-d5e0-4539-9fd0-746a42af34e9",
   "metadata": {},
   "source": [
    "## Import"
   ]
  },
  {
   "cell_type": "markdown",
   "id": "a04dfb08-a7be-4ed4-bea7-d326c4fea13f",
   "metadata": {},
   "source": [
    "In order to expedite and simplify the cleaning process, I'll create a wrangle function. Each block of code added throughout the cleaning process will be added to the function until all cleaning has been completed."
   ]
  },
  {
   "cell_type": "code",
   "execution_count": 67,
   "id": "af6840d0-1f43-4434-8955-be2b5c18ed03",
   "metadata": {},
   "outputs": [],
   "source": [
    "def wrangle(db_path):\n",
    "    # Connect to database\n",
    "    conn = sqlite3.connect(db_path)\n",
    "    #Construct query\n",
    "    query = \"\"\"\n",
    "        SELECT distinct(i.building_id) AS b_id,\n",
    "           s.*,\n",
    "           d.damage_grade\n",
    "        FROM id_map AS i\n",
    "        JOIN building_structure AS s ON i.building_id = s.building_id\n",
    "        JOIN building_damage AS d ON i.building_id = d.building_id\n",
    "        WHERE district_id = 4\n",
    "    \"\"\"\n",
    "\n",
    "    # Read query results into DataFrame\n",
    "    df = pd.read_sql(query,conn,index_col=\"b_id\")\n",
    "    \n",
    "    # identify leaky features\n",
    "    drop_cols = [col for col in df.columns if \"post_eq\" in col]\n",
    "    \n",
    "    # create a binary target\n",
    "    df[\"damage_grade\"]= df[\"damage_grade\"].str[-1].astype(int)\n",
    "    df[\"severe_damage\"]= (df[\"damage_grade\"]> 3).astype(int)\n",
    "    \n",
    "    #drop old target\n",
    "    drop_cols.append(\"damage_grade\")\n",
    "    \n",
    "    # drop column on multicolinearity\n",
    "    drop_cols.append(\"count_floors_pre_eq\")\n",
    "    \n",
    "    #drop the column \n",
    "    df.drop(columns=drop_cols, inplace=True)\n",
    "    return df"
   ]
  },
  {
   "cell_type": "code",
   "execution_count": 59,
   "id": "ae2b508b-32bd-4286-98dd-ad2d19a52760",
   "metadata": {},
   "outputs": [
    {
     "data": {
      "text/html": [
       "<div>\n",
       "<style scoped>\n",
       "    .dataframe tbody tr th:only-of-type {\n",
       "        vertical-align: middle;\n",
       "    }\n",
       "\n",
       "    .dataframe tbody tr th {\n",
       "        vertical-align: top;\n",
       "    }\n",
       "\n",
       "    .dataframe thead th {\n",
       "        text-align: right;\n",
       "    }\n",
       "</style>\n",
       "<table border=\"1\" class=\"dataframe\">\n",
       "  <thead>\n",
       "    <tr style=\"text-align: right;\">\n",
       "      <th></th>\n",
       "      <th>building_id</th>\n",
       "      <th>count_floors_pre_eq</th>\n",
       "      <th>count_floors_post_eq</th>\n",
       "      <th>age_building</th>\n",
       "      <th>plinth_area_sq_ft</th>\n",
       "      <th>height_ft_pre_eq</th>\n",
       "      <th>height_ft_post_eq</th>\n",
       "      <th>land_surface_condition</th>\n",
       "      <th>foundation_type</th>\n",
       "      <th>roof_type</th>\n",
       "      <th>ground_floor_type</th>\n",
       "      <th>other_floor_type</th>\n",
       "      <th>position</th>\n",
       "      <th>plan_configuration</th>\n",
       "      <th>condition_post_eq</th>\n",
       "      <th>superstructure</th>\n",
       "      <th>damage_grade</th>\n",
       "    </tr>\n",
       "    <tr>\n",
       "      <th>b_id</th>\n",
       "      <th></th>\n",
       "      <th></th>\n",
       "      <th></th>\n",
       "      <th></th>\n",
       "      <th></th>\n",
       "      <th></th>\n",
       "      <th></th>\n",
       "      <th></th>\n",
       "      <th></th>\n",
       "      <th></th>\n",
       "      <th></th>\n",
       "      <th></th>\n",
       "      <th></th>\n",
       "      <th></th>\n",
       "      <th></th>\n",
       "      <th></th>\n",
       "      <th></th>\n",
       "    </tr>\n",
       "  </thead>\n",
       "  <tbody>\n",
       "    <tr>\n",
       "      <th>164002</th>\n",
       "      <td>164002</td>\n",
       "      <td>3</td>\n",
       "      <td>3</td>\n",
       "      <td>20</td>\n",
       "      <td>560</td>\n",
       "      <td>18</td>\n",
       "      <td>18</td>\n",
       "      <td>Flat</td>\n",
       "      <td>Mud mortar-Stone/Brick</td>\n",
       "      <td>Bamboo/Timber-Light roof</td>\n",
       "      <td>Mud</td>\n",
       "      <td>TImber/Bamboo-Mud</td>\n",
       "      <td>Not attached</td>\n",
       "      <td>Rectangular</td>\n",
       "      <td>Damaged-Repaired and used</td>\n",
       "      <td>Stone, mud mortar</td>\n",
       "      <td>Grade 2</td>\n",
       "    </tr>\n",
       "    <tr>\n",
       "      <th>164081</th>\n",
       "      <td>164081</td>\n",
       "      <td>2</td>\n",
       "      <td>2</td>\n",
       "      <td>21</td>\n",
       "      <td>200</td>\n",
       "      <td>12</td>\n",
       "      <td>12</td>\n",
       "      <td>Flat</td>\n",
       "      <td>Mud mortar-Stone/Brick</td>\n",
       "      <td>Bamboo/Timber-Light roof</td>\n",
       "      <td>Mud</td>\n",
       "      <td>TImber/Bamboo-Mud</td>\n",
       "      <td>Not attached</td>\n",
       "      <td>Rectangular</td>\n",
       "      <td>Damaged-Used in risk</td>\n",
       "      <td>Stone, mud mortar</td>\n",
       "      <td>Grade 2</td>\n",
       "    </tr>\n",
       "    <tr>\n",
       "      <th>164089</th>\n",
       "      <td>164089</td>\n",
       "      <td>3</td>\n",
       "      <td>3</td>\n",
       "      <td>18</td>\n",
       "      <td>315</td>\n",
       "      <td>20</td>\n",
       "      <td>20</td>\n",
       "      <td>Flat</td>\n",
       "      <td>Mud mortar-Stone/Brick</td>\n",
       "      <td>Bamboo/Timber-Light roof</td>\n",
       "      <td>Mud</td>\n",
       "      <td>TImber/Bamboo-Mud</td>\n",
       "      <td>Not attached</td>\n",
       "      <td>Rectangular</td>\n",
       "      <td>Damaged-Used in risk</td>\n",
       "      <td>Stone, mud mortar</td>\n",
       "      <td>Grade 2</td>\n",
       "    </tr>\n",
       "    <tr>\n",
       "      <th>164098</th>\n",
       "      <td>164098</td>\n",
       "      <td>2</td>\n",
       "      <td>2</td>\n",
       "      <td>45</td>\n",
       "      <td>290</td>\n",
       "      <td>13</td>\n",
       "      <td>13</td>\n",
       "      <td>Flat</td>\n",
       "      <td>Mud mortar-Stone/Brick</td>\n",
       "      <td>Bamboo/Timber-Light roof</td>\n",
       "      <td>Mud</td>\n",
       "      <td>TImber/Bamboo-Mud</td>\n",
       "      <td>Not attached</td>\n",
       "      <td>Rectangular</td>\n",
       "      <td>Damaged-Used in risk</td>\n",
       "      <td>Stone, mud mortar</td>\n",
       "      <td>Grade 3</td>\n",
       "    </tr>\n",
       "    <tr>\n",
       "      <th>164103</th>\n",
       "      <td>164103</td>\n",
       "      <td>2</td>\n",
       "      <td>2</td>\n",
       "      <td>21</td>\n",
       "      <td>230</td>\n",
       "      <td>13</td>\n",
       "      <td>13</td>\n",
       "      <td>Flat</td>\n",
       "      <td>Mud mortar-Stone/Brick</td>\n",
       "      <td>Bamboo/Timber-Light roof</td>\n",
       "      <td>Mud</td>\n",
       "      <td>TImber/Bamboo-Mud</td>\n",
       "      <td>Not attached</td>\n",
       "      <td>Rectangular</td>\n",
       "      <td>Damaged-Used in risk</td>\n",
       "      <td>Stone, mud mortar</td>\n",
       "      <td>Grade 3</td>\n",
       "    </tr>\n",
       "  </tbody>\n",
       "</table>\n",
       "</div>"
      ],
      "text/plain": [
       "        building_id  count_floors_pre_eq  count_floors_post_eq  age_building  \\\n",
       "b_id                                                                           \n",
       "164002       164002                    3                     3            20   \n",
       "164081       164081                    2                     2            21   \n",
       "164089       164089                    3                     3            18   \n",
       "164098       164098                    2                     2            45   \n",
       "164103       164103                    2                     2            21   \n",
       "\n",
       "        plinth_area_sq_ft  height_ft_pre_eq  height_ft_post_eq  \\\n",
       "b_id                                                             \n",
       "164002                560                18                 18   \n",
       "164081                200                12                 12   \n",
       "164089                315                20                 20   \n",
       "164098                290                13                 13   \n",
       "164103                230                13                 13   \n",
       "\n",
       "       land_surface_condition         foundation_type  \\\n",
       "b_id                                                    \n",
       "164002                   Flat  Mud mortar-Stone/Brick   \n",
       "164081                   Flat  Mud mortar-Stone/Brick   \n",
       "164089                   Flat  Mud mortar-Stone/Brick   \n",
       "164098                   Flat  Mud mortar-Stone/Brick   \n",
       "164103                   Flat  Mud mortar-Stone/Brick   \n",
       "\n",
       "                       roof_type ground_floor_type   other_floor_type  \\\n",
       "b_id                                                                    \n",
       "164002  Bamboo/Timber-Light roof               Mud  TImber/Bamboo-Mud   \n",
       "164081  Bamboo/Timber-Light roof               Mud  TImber/Bamboo-Mud   \n",
       "164089  Bamboo/Timber-Light roof               Mud  TImber/Bamboo-Mud   \n",
       "164098  Bamboo/Timber-Light roof               Mud  TImber/Bamboo-Mud   \n",
       "164103  Bamboo/Timber-Light roof               Mud  TImber/Bamboo-Mud   \n",
       "\n",
       "            position plan_configuration          condition_post_eq  \\\n",
       "b_id                                                                 \n",
       "164002  Not attached        Rectangular  Damaged-Repaired and used   \n",
       "164081  Not attached        Rectangular       Damaged-Used in risk   \n",
       "164089  Not attached        Rectangular       Damaged-Used in risk   \n",
       "164098  Not attached        Rectangular       Damaged-Used in risk   \n",
       "164103  Not attached        Rectangular       Damaged-Used in risk   \n",
       "\n",
       "           superstructure damage_grade  \n",
       "b_id                                    \n",
       "164002  Stone, mud mortar      Grade 2  \n",
       "164081  Stone, mud mortar      Grade 2  \n",
       "164089  Stone, mud mortar      Grade 2  \n",
       "164098  Stone, mud mortar      Grade 3  \n",
       "164103  Stone, mud mortar      Grade 3  "
      ]
     },
     "execution_count": 59,
     "metadata": {},
     "output_type": "execute_result"
    }
   ],
   "source": [
    "df = wrangle(\"nepal.sqlite\")\n",
    "df.head()"
   ]
  },
  {
   "cell_type": "code",
   "execution_count": 36,
   "id": "e01d6f05-5fdc-4f86-8a1d-6c45bca0109f",
   "metadata": {},
   "outputs": [
    {
     "name": "stdout",
     "output_type": "stream",
     "text": [
      "<class 'pandas.core.frame.DataFrame'>\n",
      "Int64Index: 70836 entries, 164002 to 234835\n",
      "Data columns (total 17 columns):\n",
      " #   Column                  Non-Null Count  Dtype \n",
      "---  ------                  --------------  ----- \n",
      " 0   building_id             70836 non-null  int64 \n",
      " 1   count_floors_pre_eq     70836 non-null  int64 \n",
      " 2   count_floors_post_eq    70836 non-null  int64 \n",
      " 3   age_building            70836 non-null  int64 \n",
      " 4   plinth_area_sq_ft       70836 non-null  int64 \n",
      " 5   height_ft_pre_eq        70836 non-null  int64 \n",
      " 6   height_ft_post_eq       70836 non-null  int64 \n",
      " 7   land_surface_condition  70836 non-null  object\n",
      " 8   foundation_type         70836 non-null  object\n",
      " 9   roof_type               70836 non-null  object\n",
      " 10  ground_floor_type       70836 non-null  object\n",
      " 11  other_floor_type        70836 non-null  object\n",
      " 12  position                70836 non-null  object\n",
      " 13  plan_configuration      70836 non-null  object\n",
      " 14  condition_post_eq       70836 non-null  object\n",
      " 15  superstructure          70836 non-null  object\n",
      " 16  damage_grade            70836 non-null  object\n",
      "dtypes: int64(7), object(10)\n",
      "memory usage: 9.7+ MB\n"
     ]
    }
   ],
   "source": [
    "df.info()"
   ]
  },
  {
   "cell_type": "markdown",
   "id": "0bd134d3-6c7c-49c5-860f-829d86e5ca49",
   "metadata": {},
   "source": [
    " We are interested in the features that produces information before the earthquake in the dataframe, but we have features from the dataframe that contains information after the earthquake.We will have to drop these columns to facilitate better model performance."
   ]
  },
  {
   "cell_type": "code",
   "execution_count": 60,
   "id": "9e80a9f4-a5c8-450d-87f4-7d67cf421ae4",
   "metadata": {},
   "outputs": [
    {
     "data": {
      "text/plain": [
       "['count_floors_post_eq', 'height_ft_post_eq', 'condition_post_eq']"
      ]
     },
     "execution_count": 60,
     "metadata": {},
     "output_type": "execute_result"
    }
   ],
   "source": [
    "# Create a list of all columns that have \"post_eq\" information\n",
    "drop_cols = []\n",
    "#for col in df.columns:\n",
    "#    if \"post_eq\" in col:\n",
    "#       drop_cols.append(col)\n",
    "drop_cols\n",
    "# create a list comprehension\n",
    "#drop_cols = [col for col in df.columns if \"post_eq\" in col]\n",
    "#drop_cols"
   ]
  },
  {
   "cell_type": "markdown",
   "id": "1c83adce-8043-42b6-a9b0-a905c0c3216c",
   "metadata": {},
   "source": [
    "Now i'll update the wrangle function to drop these leaky features"
   ]
  },
  {
   "cell_type": "markdown",
   "id": "0f54ebf7-5dc7-499a-83d0-b43d3c763e9e",
   "metadata": {},
   "source": [
    "Let us inpect the target feature (Damage Grade) to see its categories."
   ]
  },
  {
   "cell_type": "code",
   "execution_count": 43,
   "id": "635fc12b-3de1-4b40-94cf-5b61bfef797b",
   "metadata": {},
   "outputs": [
    {
     "data": {
      "text/plain": [
       "Grade 5    24869\n",
       "Grade 4    20650\n",
       "Grade 3    14097\n",
       "Grade 2     7650\n",
       "Grade 1     3570\n",
       "Name: damage_grade, dtype: int64"
      ]
     },
     "execution_count": 43,
     "metadata": {},
     "output_type": "execute_result"
    }
   ],
   "source": [
    "df[\"damage_grade\"].value_counts()"
   ]
  },
  {
   "cell_type": "markdown",
   "id": "d7554ae1-7f85-4c25-bb6f-730ccf261214",
   "metadata": {},
   "source": [
    "I'll divide the target \"damage grade,\" which indicates how much damage a building experienced, into two categories since it has more than two categories because this is a binary classification task."
   ]
  },
  {
   "cell_type": "code",
   "execution_count": 47,
   "id": "ff86eae0-abc2-499a-b7a3-dd0e8f979111",
   "metadata": {},
   "outputs": [],
   "source": [
    "# create a binary target\n",
    "#df[\"damage_grade\"]= df[\"damage_grade\"].str[-1].astype(int)\n",
    "#df[\"severe_damage\"]= (df[\"damage_grade\"]> 3).astype(int)"
   ]
  },
  {
   "cell_type": "code",
   "execution_count": 48,
   "id": "c85e44f1-4172-4c6e-9005-b019c4e83d39",
   "metadata": {},
   "outputs": [
    {
     "name": "stdout",
     "output_type": "stream",
     "text": [
      "1    45519\n",
      "0    25317\n",
      "Name: severe_damage, dtype: int64\n"
     ]
    }
   ],
   "source": [
    "print(df[\"severe_damage\"].value_counts())"
   ]
  },
  {
   "cell_type": "markdown",
   "id": "cf52a894-ad72-4f0d-9f1b-901a9ed8cb62",
   "metadata": {},
   "source": [
    "Now we achieved our aim lets update the wrangle function and comment out the code for binary target creation."
   ]
  },
  {
   "cell_type": "markdown",
   "id": "89c7cce5-1cf7-4d68-b301-78bdc4a31d6c",
   "metadata": {},
   "source": [
    "## Explore"
   ]
  },
  {
   "cell_type": "markdown",
   "id": "6c47c381-863c-496d-915b-cc03094d7f2d",
   "metadata": {},
   "source": [
    "Since our model will be a type of linear model, we need to make sure there's no issue with multicollinearity in our dataset"
   ]
  },
  {
   "cell_type": "markdown",
   "id": "12d3f202-32fe-4f11-a455-00a15e4019e3",
   "metadata": {},
   "source": [
    "I'll Plot a correlation heatmap of the remaining numerical features in df. Since \"severe_damage\" will be our target, we don't need to include it in your heatmap."
   ]
  },
  {
   "cell_type": "code",
   "execution_count": 65,
   "id": "55c99880-2b7d-486c-bebc-13efe7529e93",
   "metadata": {},
   "outputs": [
    {
     "data": {
      "image/png": "[encoded data removed]",
      "text/plain": [
       "<Figure size 640x480 with 2 Axes>"
      ]
     },
     "metadata": {},
     "output_type": "display_data"
    }
   ],
   "source": [
    "# Create correlation matrix\n",
    "correlation = df.select_dtypes(\"number\").drop(columns=\"severe_damage\").corr()\n",
    "# Plot heatmap of `correlation`\n",
    "sns.heatmap(correlation);"
   ]
  },
  {
   "cell_type": "markdown",
   "id": "5d2c41e6-15a3-4006-b90a-75d9854fd940",
   "metadata": {},
   "source": [
    "From the heat map it is clear that the count_floor_pre_eq and height_ft_pre_eq are highly correlated lets ivestigate further by checking is correalation with the target variable severe_damage."
   ]
  },
  {
   "cell_type": "code",
   "execution_count": 66,
   "id": "cb0d76ac-e07f-4a59-aae8-2d45bfa8bfb9",
   "metadata": {},
   "outputs": [
    {
     "name": "stdout",
     "output_type": "stream",
     "text": [
      " correlation with relation to height is -0.03847659083302044\n",
      " correlation with relation to count of floors is 0.002892630372575261\n"
     ]
    }
   ],
   "source": [
    "# comparinng correlation between tearget variable and the features \n",
    "corr_1 = df[\"severe_damage\"].corr(df[\"height_ft_pre_eq\"])\n",
    "corr_2 = df[\"severe_damage\"].corr(df[\"count_floors_pre_eq\"])\n",
    "print(f\" correlation with relation to height is {corr_1}\")\n",
    "print(f\" correlation with relation to count of floors is {corr_2}\")\n"
   ]
  },
  {
   "cell_type": "markdown",
   "id": "c716c377-b237-4f31-83c0-a44cab1d0db3",
   "metadata": {},
   "source": [
    "Now lets update the wrangle function so it drops the \"count_floors_pre_eq\" column"
   ]
  },
  {
   "cell_type": "markdown",
   "id": "28cda3b3-22a3-4d40-bb3f-df36ae3afc09",
   "metadata": {},
   "source": [
    "Let's try to identify any differences that stand out between the homes that had severe damage during the earthquake (severe damage = 1) and those that did not (severe damage = 0), before we build our model. Let's move on and start with a number feature."
   ]
  },
  {
   "cell_type": "markdown",
   "id": "0e39b602-db61-4da1-9a18-aee1dac6c791",
   "metadata": {},
   "source": [
    "I'll Create a boxplot in Seaborn that displays the distributions for both groups in the \"height ft pre eq\" column for the \"severe damage\" column."
   ]
  },
  {
   "cell_type": "code",
   "execution_count": 69,
   "id": "623ca9d2-e9e2-4972-a45c-0ef14ce63fcb",
   "metadata": {},
   "outputs": [
    {
     "data": {
      "image/png": "[encoded data removed]",
      "text/plain": [
       "<Figure size 640x480 with 1 Axes>"
      ]
     },
     "metadata": {},
     "output_type": "display_data"
    }
   ],
   "source": [
    "# Create boxplot\n",
    "sns.boxplot(x=\"severe_damage\", y=\"height_ft_pre_eq\", data=df)\n",
    "# Label axes\n",
    "plt.xlabel(\"Severe Damage\")\n",
    "plt.ylabel(\"Height pre-earthquake\")\n",
    "plt.title(\"Distribution of Building Height by Class\");"
   ]
  },
  {
   "cell_type": "markdown",
   "id": "16aa48b4-9ac3-4164-942b-f67829816f10",
   "metadata": {},
   "source": [
    "It's a good idea to look at the balance between our two classes before we continue to the dataset's numerous categorical variables. How many were severely damaged and how many weren't."
   ]
  },
  {
   "cell_type": "markdown",
   "id": "4c9fbd60-58b8-4b0d-a033-6e52a918d297",
   "metadata": {},
   "source": [
    "I'll now make a bar chart of the \"severe damage\" column's value counts. Instead of the raw count, I want to compute the relative frequencies of the classes."
   ]
  },
  {
   "cell_type": "code",
   "execution_count": 70,
   "id": "6c92050a-c97c-4c4f-bfcc-32d95a23b4ea",
   "metadata": {},
   "outputs": [
    {
     "data": {
      "image/png": "[encoded data removed]",
      "text/plain": [
       "<Figure size 640x480 with 1 Axes>"
      ]
     },
     "metadata": {},
     "output_type": "display_data"
    }
   ],
   "source": [
    "# Plot value counts of `\"severe_damage\"`\n",
    "df[\"severe_damage\"].value_counts(normalize=True).plot(\n",
    "kind=\"bar\", xlabel=\"class\", ylabel=\"Relative Frequency\", title=\"Class Distribution\"\n",
    ");"
   ]
  },
  {
   "cell_type": "markdown",
   "id": "59b06372-079f-4b37-8d72-7385847ee1c5",
   "metadata": {},
   "source": [
    "Now that we are aware of the dataset's majority and minority classes. The category in a binary target that happens most frequently is referred to as the majority class, while the one that appears less frequently is referred to as the minority class."
   ]
  },
  {
   "cell_type": "markdown",
   "id": "fc2b1359-9c06-40aa-a6f5-498495f1d836",
   "metadata": {},
   "source": [
    "To keep the normalized value counts for the two classes in df[\"severe damage\"],I would like to construct two variables, majority class prop and minority class prop."
   ]
  },
  {
   "cell_type": "code",
   "execution_count": 71,
   "id": "5315ca05-08e7-4243-8967-e14283e5fa48",
   "metadata": {},
   "outputs": [
    {
     "name": "stdout",
     "output_type": "stream",
     "text": [
      "0.6425969845841097 0.3574030154158902\n"
     ]
    }
   ],
   "source": [
    "# create two variables majority_class_prop and minority_class_prop\n",
    "majority_class_prop, minority_class_prop = df[\"severe_damage\"].value_counts(normalize=True)\n",
    "print(majority_class_prop, minority_class_prop)"
   ]
  },
  {
   "cell_type": "markdown",
   "id": "b0f77570-760c-46cc-a365-8773e8729915",
   "metadata": {},
   "source": [
    "We want to see if certain foundation types more likely to suffer severe damage.So i'll Create a pivot table of df where the index is \"foundation_type\" and the values come from the \"severe_damage\" column, aggregated by the mean."
   ]
  },
  {
   "cell_type": "code",
   "execution_count": 72,
   "id": "ebb99e44-a515-435a-8dab-246e5e3b2c81",
   "metadata": {},
   "outputs": [
    {
     "data": {
      "text/html": [
       "<div>\n",
       "<style scoped>\n",
       "    .dataframe tbody tr th:only-of-type {\n",
       "        vertical-align: middle;\n",
       "    }\n",
       "\n",
       "    .dataframe tbody tr th {\n",
       "        vertical-align: top;\n",
       "    }\n",
       "\n",
       "    .dataframe thead th {\n",
       "        text-align: right;\n",
       "    }\n",
       "</style>\n",
       "<table border=\"1\" class=\"dataframe\">\n",
       "  <thead>\n",
       "    <tr style=\"text-align: right;\">\n",
       "      <th></th>\n",
       "      <th>severe_damage</th>\n",
       "    </tr>\n",
       "    <tr>\n",
       "      <th>foundation_type</th>\n",
       "      <th></th>\n",
       "    </tr>\n",
       "  </thead>\n",
       "  <tbody>\n",
       "    <tr>\n",
       "      <th>RC</th>\n",
       "      <td>0.026224</td>\n",
       "    </tr>\n",
       "    <tr>\n",
       "      <th>Bamboo/Timber</th>\n",
       "      <td>0.324074</td>\n",
       "    </tr>\n",
       "    <tr>\n",
       "      <th>Cement-Stone/Brick</th>\n",
       "      <td>0.421908</td>\n",
       "    </tr>\n",
       "    <tr>\n",
       "      <th>Mud mortar-Stone/Brick</th>\n",
       "      <td>0.687792</td>\n",
       "    </tr>\n",
       "    <tr>\n",
       "      <th>Other</th>\n",
       "      <td>0.818898</td>\n",
       "    </tr>\n",
       "  </tbody>\n",
       "</table>\n",
       "</div>"
      ],
      "text/plain": [
       "                        severe_damage\n",
       "foundation_type                      \n",
       "RC                           0.026224\n",
       "Bamboo/Timber                0.324074\n",
       "Cement-Stone/Brick           0.421908\n",
       "Mud mortar-Stone/Brick       0.687792\n",
       "Other                        0.818898"
      ]
     },
     "execution_count": 72,
     "metadata": {},
     "output_type": "execute_result"
    }
   ],
   "source": [
    "# Create pivot table\n",
    "foundation_pivot = pd.pivot_table(\n",
    "    df, index=\"foundation_type\", values=\"severe_damage\",aggfunc=np.mean\n",
    ").sort_values(by=\"severe_damage\")\n",
    "foundation_pivot"
   ]
  },
  {
   "cell_type": "markdown",
   "id": "a3be4d67-556f-4614-8879-f43fd07f1df0",
   "metadata": {},
   "source": [
    "The next visualization will be centered on How  the proportions in foundation_pivot compare to the proportions for our majority and minority classes.so i'll Plot foundation_pivot as horizontal bar chart, adding vertical lines at the values for majority_class_prop and minority_class_prop."
   ]
  },
  {
   "cell_type": "code",
   "execution_count": 73,
   "id": "26f84a2d-b65d-42d5-ab57-c80bff35e7b6",
   "metadata": {},
   "outputs": [
    {
     "data": {
      "image/png": "[encoded data removed]",
      "text/plain": [
       "<Figure size 640x480 with 1 Axes>"
      ]
     },
     "metadata": {},
     "output_type": "display_data"
    }
   ],
   "source": [
    "# Plot bar chart of `foundation_pivot`\n",
    "foundation_pivot.plot(kind=\"barh\",legend=None)\n",
    "plt.axvline(\n",
    "   majority_class_prop, linestyle=\"--\", color=\"pink\",label =\"Majority_class\"\n",
    ")\n",
    "plt.axvline(\n",
    "   minority_class_prop, linestyle=\"--\", color=\"green\",label =\"Minority_class\"\n",
    ")\n",
    "legend = plt.legend()\n",
    "legend.set_bbox_to_anchor((1.35, 0.0))\n"
   ]
  },
  {
   "cell_type": "markdown",
   "id": "73ca5de4-0d83-46fc-8d2a-258979216b3e",
   "metadata": {},
   "source": [
    "Now I'll Check the dataset for any high- or low-cardinality categorical features by combining the select dtypes and nunique procedures."
   ]
  },
  {
   "cell_type": "code",
   "execution_count": 74,
   "id": "ae2040ae-b31c-4d3e-a43c-198ddf28afe6",
   "metadata": {},
   "outputs": [
    {
     "data": {
      "text/plain": [
       "land_surface_condition     3\n",
       "foundation_type            5\n",
       "roof_type                  3\n",
       "ground_floor_type          5\n",
       "other_floor_type           4\n",
       "position                   4\n",
       "plan_configuration        10\n",
       "superstructure            11\n",
       "dtype: int64"
      ]
     },
     "execution_count": 74,
     "metadata": {},
     "output_type": "execute_result"
    }
   ],
   "source": [
    "# Check for high- and low-cardinality categorical features\n",
    "df.select_dtypes(\"object\").nunique()"
   ]
  },
  {
   "cell_type": "code",
   "execution_count": 75,
   "id": "095c0351-7b15-4204-81e6-2c5ccea9a817",
   "metadata": {},
   "outputs": [
    {
     "name": "stdout",
     "output_type": "stream",
     "text": [
      "<class 'pandas.core.frame.DataFrame'>\n",
      "Int64Index: 70836 entries, 164002 to 234835\n",
      "Data columns (total 13 columns):\n",
      " #   Column                  Non-Null Count  Dtype \n",
      "---  ------                  --------------  ----- \n",
      " 0   building_id             70836 non-null  int64 \n",
      " 1   age_building            70836 non-null  int64 \n",
      " 2   plinth_area_sq_ft       70836 non-null  int64 \n",
      " 3   height_ft_pre_eq        70836 non-null  int64 \n",
      " 4   land_surface_condition  70836 non-null  object\n",
      " 5   foundation_type         70836 non-null  object\n",
      " 6   roof_type               70836 non-null  object\n",
      " 7   ground_floor_type       70836 non-null  object\n",
      " 8   other_floor_type        70836 non-null  object\n",
      " 9   position                70836 non-null  object\n",
      " 10  plan_configuration      70836 non-null  object\n",
      " 11  superstructure          70836 non-null  object\n",
      " 12  severe_damage           70836 non-null  int64 \n",
      "dtypes: int64(5), object(8)\n",
      "memory usage: 7.6+ MB\n"
     ]
    }
   ],
   "source": [
    "df.info()"
   ]
  },
  {
   "cell_type": "markdown",
   "id": "31a37dc2-adf2-4e16-8310-ecb9d02f8a96",
   "metadata": {},
   "source": [
    "Building id is a categorical identifier for each building in the database, although it is encoded as an integer and is not especially useful for modeling. As a result, since it is a high cardinality feature, it will be removed."
   ]
  },
  {
   "cell_type": "markdown",
   "id": "635c1006-4f04-41ca-8756-87ff9964513c",
   "metadata": {},
   "source": [
    "I can now start building the model."
   ]
  },
  {
   "cell_type": "code",
   "execution_count": null,
   "id": "941f191c-3ba5-4760-8498-20aa244f9844",
   "metadata": {},
   "outputs": [],
   "source": []
  }
 ],
 "metadata": {
  "kernelspec": {
   "display_name": "Python 3",
   "language": "python",
   "name": "python3"
  },
  "language_info": {
   "codemirror_mode": {
    "name": "ipython",
    "version": 3
   },
   "file_extension": ".py",
   "mimetype": "text/x-python",
   "name": "python",
   "nbconvert_exporter": "python",
   "pygments_lexer": "ipython3",
   "version": "3.8.16"
  }
 },
 "nbformat": 4,
 "nbformat_minor": 5
}
